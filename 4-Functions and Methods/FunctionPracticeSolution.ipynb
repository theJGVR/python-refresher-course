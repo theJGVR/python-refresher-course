{
 "cells": [
  {
   "cell_type": "markdown",
   "metadata": {},
   "source": [
    "# Functions Preactice\n"
   ]
  },
  {
   "cell_type": "markdown",
   "metadata": {},
   "source": [
    "## Question 1: Temperature Conversion Program  \n",
    "\n",
    "Write a Python function called `convert_temperature` that:  \n",
    "\n",
    "1. **Takes two parameters:**  \n",
    "   - `temp`: The temperature value to be converted.  \n",
    "   - `unit`: A string indicating the current unit of the temperature (`'C'` for Celsius or `'F'` for Fahrenheit).  \n",
    "\n",
    "2. **Performs the following:**  \n",
    "   - If the `unit` is `'C'`, convert the temperature from Celsius to Fahrenheit using the proper formula\n",
    "   - If the `unit` is `'F'`, convert the temperature from Fahrenheit to Celsius using the proper formula\n",
    "   - If the `unit` is neither `'C'` nor `'F'`, return `None`.  \n",
    "\n",
    "3. **Test the function** with the following input values:  \n",
    "   - Convert **25°C to Fahrenheit**.  \n",
    "   - Convert **77°F to Celsius**.  \n",
    "\n",
    "4. **Print the results** for both conversions.\n",
    "\n",
    "---\n",
    "\n",
    "## Expected Output  \n",
    "Your program should output the following:  \n",
    "77.0\n",
    "\n",
    "25.0"
   ]
  },
  {
   "cell_type": "code",
   "execution_count": 1,
   "metadata": {},
   "outputs": [
    {
     "name": "stdout",
     "output_type": "stream",
     "text": [
      "77.0\n",
      "25.0\n"
     ]
    }
   ],
   "source": [
    "def convert_temperature(temp,unit):\n",
    "    \"\"\"This function converts temperature between Celsius and Fahrenheit\"\"\"\n",
    "    if unit=='C':\n",
    "        return temp * 9/5 + 32  ## Celsius To Fahrenheit\n",
    "    elif unit==\"F\":\n",
    "        return (temp-32)*5/9 ## Fahrenheit to celsius\n",
    "    else:\n",
    "        return None\n",
    "\n",
    "print(convert_temperature(25,'C'))\n",
    "print(convert_temperature(77,'F'))"
   ]
  },
  {
   "cell_type": "markdown",
   "metadata": {},
   "source": [
    "## Question 2: Calculate Total Cost of a Shopping Cart  \n",
    "\n",
    "Write a Python function called `calculate_total_cost` that:  \n",
    "\n",
    "1. **Takes one parameter:**  \n",
    "   - `cart`: A list of dictionaries where each dictionary represents an item with the following keys:  \n",
    "     - `'name'`: The name of the item (e.g., `'Apple'`).  \n",
    "     - `'price'`: The price of a single unit of the item (e.g., `0.5` for $0.50).  \n",
    "     - `'quantity'`: The number of units of the item (e.g., `4` for 4 units).  \n",
    "\n",
    "2. **Calculates the total cost** of the cart by multiplying the `price` by the `quantity` for each item and summing up these values.\n",
    "\n",
    "3. **Returns the total cost** as a single value.\n",
    "\n",
    "---\n",
    "\n",
    "### Example Input  \n",
    "```python\n",
    "cart = [\n",
    "    {'name': 'Apple', 'price': 0.5, 'quantity': 4},\n",
    "    {'name': 'Banana', 'price': 0.3, 'quantity': 6},\n",
    "    {'name': 'Orange', 'price': 0.7, 'quantity': 3}\n",
    "]\n"
   ]
  },
  {
   "cell_type": "code",
   "execution_count": 4,
   "metadata": {},
   "outputs": [
    {
     "name": "stdout",
     "output_type": "stream",
     "text": [
      "5.8999999999999995\n"
     ]
    }
   ],
   "source": [
    "def calculate_total_cost(cart):\n",
    "    total_cost=0\n",
    "    for item in cart:\n",
    "        total_cost+=item['price']* item['quantity']\n",
    "\n",
    "    return total_cost\n",
    "\n",
    "\n",
    "## Example cart data\n",
    "\n",
    "cart=[\n",
    "    {'name':'Apple','price':0.5,'quantity':4},\n",
    "    {'name':'Banana','price':0.3,'quantity':6},\n",
    "    {'name':'Orange','price':0.7,'quantity':3}\n",
    "\n",
    "]\n",
    "\n",
    "## calling the function\n",
    "total_cost=calculate_total_cost(cart)\n",
    "print(total_cost)"
   ]
  },
  {
   "cell_type": "markdown",
   "metadata": {},
   "source": [
    "## Question3: Check if a Number is Prime  \n",
    "\n",
    "Write a Python function called `is_prime` that:  \n",
    "\n",
    "1. **Takes one parameter:**  \n",
    "   - `num`: An integer to check whether it is a prime number.  \n",
    "\n",
    "2. **Performs the following:**  \n",
    "   - Returns `True` if the number is prime.  \n",
    "   - Returns `False` if the number is not prime.  \n",
    "\n",
    "3. **Definition of a Prime Number:**  \n",
    "   A prime number is a number greater than 1 that has no divisors other than `1` and itself.  \n",
    "\n",
    "---\n",
    "\n",
    "### Example Input and Output  \n",
    "\n",
    "| Input | Output  | Explanation                              |\n",
    "|-------|---------|------------------------------------------|\n",
    "| `7`   | `True`  | `7` is divisible only by `1` and `7`.    |\n",
    "| `10`  | `False` | `10` is divisible by `2` and `5`.        |\n",
    "| `1`   | `False` | A prime number must be greater than `1`. |\n",
    "\n",
    "---\n",
    "\n",
    "### Bonus Questions  \n",
    "1. How can you optimize the function for large numbers?  \n",
    "2. Add a condition to handle negative numbers gracefully.  \n",
    "3. Write a function that prints all prime numbers within a given range.\n",
    "\n",
    "---\n",
    "\n",
    "### Sample Function Call  \n",
    "```python\n",
    "print(is_prime(7))   # Output: True\n",
    "print(is_prime(10))  # Output: False\n",
    "print(is_prime(1))   # Output: False\n"
   ]
  },
  {
   "cell_type": "code",
   "execution_count": 3,
   "metadata": {},
   "outputs": [
    {
     "name": "stdout",
     "output_type": "stream",
     "text": [
      "True\n",
      "False\n",
      "False\n"
     ]
    }
   ],
   "source": [
    "def is_prime(num):\n",
    "    \"\"\"\n",
    "    This function checks if a number is prime.\n",
    "    Returns True if the number is prime, otherwise False.\n",
    "    \"\"\"\n",
    "    if num <= 1:\n",
    "        return False\n",
    "    for i in range(2, int(num**0.5) + 1):  # Check divisors up to the square root of num\n",
    "        if num % i == 0:\n",
    "            return False\n",
    "    return True\n",
    "\n",
    "# Sample Function Calls\n",
    "print(is_prime(7))   # Output: True\n",
    "print(is_prime(10))  # Output: False\n",
    "print(is_prime(1))   # Output: False\n"
   ]
  },
  {
   "cell_type": "code",
   "execution_count": null,
   "metadata": {},
   "outputs": [],
   "source": []
  }
 ],
 "metadata": {
  "kernelspec": {
   "display_name": "base",
   "language": "python",
   "name": "python3"
  },
  "language_info": {
   "codemirror_mode": {
    "name": "ipython",
    "version": 3
   },
   "file_extension": ".py",
   "mimetype": "text/x-python",
   "name": "python",
   "nbconvert_exporter": "python",
   "pygments_lexer": "ipython3",
   "version": "3.12.4"
  }
 },
 "nbformat": 4,
 "nbformat_minor": 2
}
